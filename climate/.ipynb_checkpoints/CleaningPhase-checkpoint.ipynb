{
 "cells": [
  {
   "cell_type": "code",
   "execution_count": 2,
   "metadata": {},
   "outputs": [],
   "source": [
    "import pandas as pd\n",
    "pd.set_option('max_columns', 120)\n",
    "import nltk #for tokenize"
   ]
  },
  {
   "cell_type": "code",
   "execution_count": 3,
   "metadata": {},
   "outputs": [],
   "source": [
    "CC_hash = pd.read_csv(\"climatechange_hashtag.csv\")\n",
    "CC_word = pd.read_csv(\"climatechange_wordsearch.csv\")\n",
    "envi_hash = pd.read_csv(\"environment_hashtag.csv\")\n",
    "envi_word = pd.read_csv(\"environment_wordsearch.csv\")\n",
    "globalWarm_hash = pd.read_csv(\"globalwarming_hashtag.csv\")\n",
    "globalWarm_word = pd.read_csv(\"globalwarming_wordsearch.csv\")\n"
   ]
  },
  {
   "cell_type": "code",
   "execution_count": 4,
   "metadata": {},
   "outputs": [],
   "source": [
    "CC_hash.drop_duplicates(inplace = True)\n",
    "CC_word.drop_duplicates(inplace = True)\n",
    "envi_hash.drop_duplicates(inplace = True)\n",
    "envi_word.drop_duplicates(inplace = True)\n",
    "globalWarm_hash.drop_duplicates(inplace = True)\n",
    "globalWarm_word .drop_duplicates(inplace = True)"
   ]
  },
  {
   "cell_type": "code",
   "execution_count": 5,
   "metadata": {},
   "outputs": [],
   "source": [
    "def tokenize (df):\n",
    "    content_list = df[\"Content\"].tolist() # list of contents of tweets\n",
    "    x=0\n",
    "    tokenized = [] #new list of tokenized sentences\n",
    "    while len(content_list) != 0:\n",
    "        #sentence = CC_hash.Content[x]\n",
    "        sentence = content_list[x]\n",
    "        tokens = sentence.split()\n",
    "        tokenized.append(tokens)\n",
    "    return tokenized #list"
   ]
  },
  {
   "cell_type": "code",
   "execution_count": 6,
   "metadata": {},
   "outputs": [],
   "source": [
    "\n",
    "#columnsNamesArr = CC_hash.columns.values #get the column names for a dataframe"
   ]
  },
  {
   "cell_type": "code",
   "execution_count": null,
   "metadata": {},
   "outputs": [],
   "source": [
    "#Add a list of tokens as a new column \n",
    "#creating a new column for the dfs\n",
    "CC_hash['tokenized'] = tokenize(CC_hash) #list of tokenized tweets\n",
    "#CC_word_new['tokenized'] = tokenize(CC_word) \n",
    "#envi_hash_new['tokenized'] = tokenize(envi_hash)\n",
    "#envi_word_new['tokenized'] = tokenize(envi_word)\n",
    "#globalWarm_hash_new['tokenized'] = tokenize(globalWarm_hash)\n",
    "#globalWarm_word_new['tokenized'] = tokenize(globalWarm_word)"
   ]
  },
  {
   "cell_type": "code",
   "execution_count": null,
   "metadata": {},
   "outputs": [],
   "source": [
    "CC_hash\n"
   ]
  },
  {
   "cell_type": "code",
   "execution_count": null,
   "metadata": {},
   "outputs": [],
   "source": []
  }
 ],
 "metadata": {
  "kernelspec": {
   "display_name": "Python 3",
   "language": "python",
   "name": "python3"
  },
  "language_info": {
   "codemirror_mode": {
    "name": "ipython",
    "version": 3
   },
   "file_extension": ".py",
   "mimetype": "text/x-python",
   "name": "python",
   "nbconvert_exporter": "python",
   "pygments_lexer": "ipython3",
   "version": "3.7.4"
  }
 },
 "nbformat": 4,
 "nbformat_minor": 2
}
